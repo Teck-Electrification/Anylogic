{
 "cells": [
  {
   "cell_type": "code",
   "execution_count": 47,
   "id": "89f4a4f5-1da3-4dc9-891e-6076db8fe96f",
   "metadata": {},
   "outputs": [],
   "source": [
    "import time\n",
    "import os.path\n",
    "from os import path\n",
    "import pandas as pd"
   ]
  },
  {
   "cell_type": "code",
   "execution_count": 38,
   "id": "8f8534f4-3ca9-4e6c-b600-5f2f32647907",
   "metadata": {},
   "outputs": [],
   "source": [
    "class node:\n",
    "    def __init_(self):\n",
    "        self.x = None\n",
    "        self.y = None\n",
    "        self.z = None"
   ]
  },
  {
   "cell_type": "code",
   "execution_count": 39,
   "id": "5300dc10-8bb8-4b2e-a90a-658b5a9f99a0",
   "metadata": {},
   "outputs": [],
   "source": [
    "def openDXF(filename):\n",
    "    with open(filename + \".dxf\") as f:\n",
    "        lines = f.read().splitlines()\n",
    "    return lines"
   ]
  },
  {
   "cell_type": "code",
   "execution_count": 40,
   "id": "92be3a60-9118-450a-a8ce-4e3b3076468f",
   "metadata": {},
   "outputs": [],
   "source": [
    "def isolateVertex(dxf_list):\n",
    "    start, end = 0, -1\n",
    "    flag = False\n",
    "    for i, c in enumerate(dxf_list):\n",
    "        if c == \"VERTEX\" and flag is False:\n",
    "            start = i\n",
    "            flag = True\n",
    "        if c == \"ENDSEC\":\n",
    "            end = i+1\n",
    "        if end > start and flag is True:\n",
    "            return dxf_list[start:end]\n",
    "    return None"
   ]
  },
  {
   "cell_type": "code",
   "execution_count": 41,
   "id": "5e4e34b1-6264-4044-ba8e-2ddbf79c874f",
   "metadata": {},
   "outputs": [],
   "source": [
    "def findPoints(vertex_list):\n",
    "    return 0"
   ]
  },
  {
   "cell_type": "code",
   "execution_count": 46,
   "id": "02ab702b-ae06-4313-bb50-cf8a8d879e79",
   "metadata": {},
   "outputs": [
    {
     "name": "stdout",
     "output_type": "stream",
     "text": [
      "7.527351379394531 ms\n",
      "                    x                   y     z\n",
      "0  -4818319.758578693   1421820.592621035   0.0\n",
      "1  -3089806.380390704   2601599.565035061  10.0\n",
      "2   778771.1803157553   2162612.040415889  20.0\n",
      "3   3906557.293227356  -1020047.513073114  30.0\n"
     ]
    }
   ],
   "source": [
    "start = time.time()\n",
    "l1 = openDXF(\"simon_test_elevation_change\")\n",
    "l2 = isolateVertex(l1)\n",
    "\n",
    "data_xyz = []\n",
    "\n",
    "for i, c in enumerate(l2):\n",
    "    if c == \"AcDb3dPolylineVertex\":\n",
    "        data_xyz.append([l2[i+2], l2[i+4], l2[i+6]])\n",
    "\n",
    "df = pd.DataFrame(data_xyz, columns = ['x', 'y', 'z'])\n",
    "if path.exists('nodes_xyz.csv'):\n",
    "    os.remove('nodes_xyz.csv')\n",
    "df.to_csv('nodes_xyz.csv', sep='\\t', encoding='utf-8', index=False)\n",
    "\n",
    "end = time.time()\n",
    "print((end-start) * 10**3, \"ms\")\n",
    "print(df)"
   ]
  },
  {
   "cell_type": "code",
   "execution_count": null,
   "id": "b35c1321-2009-4179-9663-c700314226bc",
   "metadata": {},
   "outputs": [],
   "source": []
  }
 ],
 "metadata": {
  "kernelspec": {
   "display_name": "Python 3 (ipykernel)",
   "language": "python",
   "name": "python3"
  },
  "language_info": {
   "codemirror_mode": {
    "name": "ipython",
    "version": 3
   },
   "file_extension": ".py",
   "mimetype": "text/x-python",
   "name": "python",
   "nbconvert_exporter": "python",
   "pygments_lexer": "ipython3",
   "version": "3.10.6"
  }
 },
 "nbformat": 4,
 "nbformat_minor": 5
}
