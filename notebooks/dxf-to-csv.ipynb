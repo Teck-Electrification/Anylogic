{
 "cells": [
  {
   "cell_type": "markdown",
   "id": "ffdda2e8-529d-47f6-8294-0b946737c129",
   "metadata": {},
   "source": [
    "To use notebook:\n",
    "1. Drag the dxf file into the following location: Anylogic/notebooks\n",
    "2. Type in the name of the dxf file in the line l1 = openDXF(\"PUT FILE NAME HERE\")\n",
    "3. Run every block using shift + enter\n",
    "4. The notebook with output a csv file called nodes_xyz.csv that will contain the easting, northing and elevation of the dxf nodes"
   ]
  },
  {
   "cell_type": "code",
   "execution_count": 8,
   "id": "89f4a4f5-1da3-4dc9-891e-6076db8fe96f",
   "metadata": {},
   "outputs": [],
   "source": [
    "import time\n",
    "import os.path\n",
    "from os import path\n",
    "import pandas as pd"
   ]
  },
  {
   "cell_type": "code",
   "execution_count": 9,
   "id": "8f8534f4-3ca9-4e6c-b600-5f2f32647907",
   "metadata": {},
   "outputs": [],
   "source": [
    "## no longer in use ###\n",
    "class node:\n",
    "    def __init_(self):\n",
    "        self.x = None\n",
    "        self.y = None\n",
    "        self.z = None"
   ]
  },
  {
   "cell_type": "code",
   "execution_count": 10,
   "id": "5300dc10-8bb8-4b2e-a90a-658b5a9f99a0",
   "metadata": {},
   "outputs": [],
   "source": [
    "def openDXF(filename):\n",
    "    with open(filename + \".dxf\") as f:\n",
    "        lines = f.read().splitlines()\n",
    "    return lines"
   ]
  },
  {
   "cell_type": "code",
   "execution_count": 11,
   "id": "92be3a60-9118-450a-a8ce-4e3b3076468f",
   "metadata": {},
   "outputs": [],
   "source": [
    "def isolateVertex(dxf_list):\n",
    "    start, end = 0, -1\n",
    "    flag = False\n",
    "    for i, c in enumerate(dxf_list):\n",
    "        if c == \"VERTEX\" and flag is False:\n",
    "            start = i\n",
    "            flag = True\n",
    "        if c == \"ENDSEC\":\n",
    "            end = i+1\n",
    "        if end > start and flag is True:\n",
    "            return dxf_list[start:end]\n",
    "    return None"
   ]
  },
  {
   "cell_type": "code",
   "execution_count": 12,
   "id": "5e4e34b1-6264-4044-ba8e-2ddbf79c874f",
   "metadata": {},
   "outputs": [],
   "source": [
    "def findPoints(vertex_list):\n",
    "    return 0"
   ]
  },
  {
   "cell_type": "code",
   "execution_count": 13,
   "id": "02ab702b-ae06-4313-bb50-cf8a8d879e79",
   "metadata": {},
   "outputs": [
    {
     "ename": "FileNotFoundError",
     "evalue": "[Errno 2] No such file or directory: 'road_manual.dxf'",
     "output_type": "error",
     "traceback": [
      "\u001b[0;31m---------------------------------------------------------------------------\u001b[0m",
      "\u001b[0;31mFileNotFoundError\u001b[0m                         Traceback (most recent call last)",
      "Cell \u001b[0;32mIn [13], line 4\u001b[0m\n\u001b[1;32m      1\u001b[0m start \u001b[38;5;241m=\u001b[39m time\u001b[38;5;241m.\u001b[39mtime()\n\u001b[1;32m      3\u001b[0m \u001b[38;5;66;03m#####PUT NAME OF DXF FILE HERE#####\u001b[39;00m\n\u001b[0;32m----> 4\u001b[0m l1 \u001b[38;5;241m=\u001b[39m \u001b[43mopenDXF\u001b[49m\u001b[43m(\u001b[49m\u001b[38;5;124;43m\"\u001b[39;49m\u001b[38;5;124;43mroad_manual\u001b[39;49m\u001b[38;5;124;43m\"\u001b[39;49m\u001b[43m)\u001b[49m\n\u001b[1;32m      6\u001b[0m l2 \u001b[38;5;241m=\u001b[39m isolateVertex(l1)\n\u001b[1;32m      8\u001b[0m data_xyz \u001b[38;5;241m=\u001b[39m []\n",
      "Cell \u001b[0;32mIn [10], line 2\u001b[0m, in \u001b[0;36mopenDXF\u001b[0;34m(filename)\u001b[0m\n\u001b[1;32m      1\u001b[0m \u001b[38;5;28;01mdef\u001b[39;00m \u001b[38;5;21mopenDXF\u001b[39m(filename):\n\u001b[0;32m----> 2\u001b[0m     \u001b[38;5;28;01mwith\u001b[39;00m \u001b[38;5;28;43mopen\u001b[39;49m\u001b[43m(\u001b[49m\u001b[43mfilename\u001b[49m\u001b[43m \u001b[49m\u001b[38;5;241;43m+\u001b[39;49m\u001b[43m \u001b[49m\u001b[38;5;124;43m\"\u001b[39;49m\u001b[38;5;124;43m.dxf\u001b[39;49m\u001b[38;5;124;43m\"\u001b[39;49m\u001b[43m)\u001b[49m \u001b[38;5;28;01mas\u001b[39;00m f:\n\u001b[1;32m      3\u001b[0m         lines \u001b[38;5;241m=\u001b[39m f\u001b[38;5;241m.\u001b[39mread()\u001b[38;5;241m.\u001b[39msplitlines()\n\u001b[1;32m      4\u001b[0m     \u001b[38;5;28;01mreturn\u001b[39;00m lines\n",
      "File \u001b[0;32m/opt/conda/lib/python3.10/site-packages/IPython/core/interactiveshell.py:282\u001b[0m, in \u001b[0;36m_modified_open\u001b[0;34m(file, *args, **kwargs)\u001b[0m\n\u001b[1;32m    275\u001b[0m \u001b[38;5;28;01mif\u001b[39;00m file \u001b[38;5;129;01min\u001b[39;00m {\u001b[38;5;241m0\u001b[39m, \u001b[38;5;241m1\u001b[39m, \u001b[38;5;241m2\u001b[39m}:\n\u001b[1;32m    276\u001b[0m     \u001b[38;5;28;01mraise\u001b[39;00m \u001b[38;5;167;01mValueError\u001b[39;00m(\n\u001b[1;32m    277\u001b[0m         \u001b[38;5;124mf\u001b[39m\u001b[38;5;124m\"\u001b[39m\u001b[38;5;124mIPython won\u001b[39m\u001b[38;5;124m'\u001b[39m\u001b[38;5;124mt let you open fd=\u001b[39m\u001b[38;5;132;01m{\u001b[39;00mfile\u001b[38;5;132;01m}\u001b[39;00m\u001b[38;5;124m by default \u001b[39m\u001b[38;5;124m\"\u001b[39m\n\u001b[1;32m    278\u001b[0m         \u001b[38;5;124m\"\u001b[39m\u001b[38;5;124mas it is likely to crash IPython. If you know what you are doing, \u001b[39m\u001b[38;5;124m\"\u001b[39m\n\u001b[1;32m    279\u001b[0m         \u001b[38;5;124m\"\u001b[39m\u001b[38;5;124myou can use builtins\u001b[39m\u001b[38;5;124m'\u001b[39m\u001b[38;5;124m open.\u001b[39m\u001b[38;5;124m\"\u001b[39m\n\u001b[1;32m    280\u001b[0m     )\n\u001b[0;32m--> 282\u001b[0m \u001b[38;5;28;01mreturn\u001b[39;00m \u001b[43mio_open\u001b[49m\u001b[43m(\u001b[49m\u001b[43mfile\u001b[49m\u001b[43m,\u001b[49m\u001b[43m \u001b[49m\u001b[38;5;241;43m*\u001b[39;49m\u001b[43margs\u001b[49m\u001b[43m,\u001b[49m\u001b[43m \u001b[49m\u001b[38;5;241;43m*\u001b[39;49m\u001b[38;5;241;43m*\u001b[39;49m\u001b[43mkwargs\u001b[49m\u001b[43m)\u001b[49m\n",
      "\u001b[0;31mFileNotFoundError\u001b[0m: [Errno 2] No such file or directory: 'road_manual.dxf'"
     ]
    }
   ],
   "source": [
    "start = time.time()\n",
    "\n",
    "#####PUT NAME OF DXF FILE HERE#####\n",
    "l1 = openDXF(\"road_manual\")\n",
    "\n",
    "l2 = isolateVertex(l1)\n",
    "\n",
    "data_xyz = []\n",
    "\n",
    "for i, c in enumerate(l2):     ###usually verticies are named after dxf file name, check dxf raw text if error here###\n",
    "    if c == \"ROAD_MANUAL\" and i<(len(l2)-8):\n",
    "        data_xyz.append([l2[i+4], l2[i+6], l2[i+8]])\n",
    "\n",
    "df = pd.DataFrame(data_xyz, columns = ['Easting', 'Northing', 'Elevation'])\n",
    "if path.exists('nodes_xyz.csv'):\n",
    "    os.remove('nodes_xyz.csv')\n",
    "df.to_csv('nodes_xyz.csv', sep='\\t', encoding='utf-8', index=False)\n",
    "\n",
    "end = time.time()\n",
    "print((end-start) * 10**3, \"ms\")\n",
    "print(df)"
   ]
  }
 ],
 "metadata": {
  "kernelspec": {
   "display_name": "Python 3 (ipykernel)",
   "language": "python",
   "name": "python3"
  },
  "language_info": {
   "codemirror_mode": {
    "name": "ipython",
    "version": 3
   },
   "file_extension": ".py",
   "mimetype": "text/x-python",
   "name": "python",
   "nbconvert_exporter": "python",
   "pygments_lexer": "ipython3",
   "version": "3.10.6"
  }
 },
 "nbformat": 4,
 "nbformat_minor": 5
}
