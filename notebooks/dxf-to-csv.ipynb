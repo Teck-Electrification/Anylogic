{
 "cells": [
  {
   "cell_type": "markdown",
   "id": "ffdda2e8-529d-47f6-8294-0b946737c129",
   "metadata": {},
   "source": [
    "To use notebook:\n",
    "1. Drag the dxf file into the following location: Anylogic/notebooks\n",
    "2. Type in the name of the dxf file in the line l1 = openDXF(\"PUT FILE NAME HERE\")\n",
    "3. Run every block using shift + enter\n",
    "4. The notebook with output a csv file called nodes_xyz.csv that will contain the easting, northing and elevation of the dxf nodes"
   ]
  },
  {
   "cell_type": "code",
   "execution_count": 2,
   "id": "89f4a4f5-1da3-4dc9-891e-6076db8fe96f",
   "metadata": {},
   "outputs": [],
   "source": [
    "import time\n",
    "import os.path\n",
    "from os import path\n",
    "import pandas as pd"
   ]
  },
  {
   "cell_type": "code",
   "execution_count": 3,
   "id": "5300dc10-8bb8-4b2e-a90a-658b5a9f99a0",
   "metadata": {},
   "outputs": [],
   "source": [
    "def openDXF(filename):\n",
    "    with open(filename + \".dxf\") as f:\n",
    "        lines = f.read().splitlines()\n",
    "    return lines"
   ]
  },
  {
   "cell_type": "code",
   "execution_count": 4,
   "id": "92be3a60-9118-450a-a8ce-4e3b3076468f",
   "metadata": {},
   "outputs": [],
   "source": [
    "def isolateVertex(dxf_list):\n",
    "    start, end = 0, -1\n",
    "    flag = False\n",
    "    for i, c in enumerate(dxf_list):\n",
    "        if c == \"VERTEX\" and flag is False:\n",
    "            start = i\n",
    "            flag = True\n",
    "        if c == \"ENDSEC\":\n",
    "            end = i+1\n",
    "        if end > start and flag is True:\n",
    "            return dxf_list[start:end]\n",
    "    return None"
   ]
  },
  {
   "cell_type": "code",
   "execution_count": 5,
   "id": "02ab702b-ae06-4313-bb50-cf8a8d879e79",
   "metadata": {},
   "outputs": [
    {
     "name": "stdout",
     "output_type": "stream",
     "text": [
      "7.082223892211914 ms\n",
      "             x            y        z\n",
      "0   740759.836  7642996.011  140.000\n",
      "1   740778.331  7643043.218  140.000\n",
      "2   740765.945  7643109.075  146.090\n",
      "3   740754.580  7643121.433  147.649\n",
      "4   740737.318  7643136.655  148.661\n",
      "..         ...          ...      ...\n",
      "58  741289.076  7643009.271  141.616\n",
      "59  741295.911  7643017.532  140.825\n",
      "60  741298.051  7643026.223  140.067\n",
      "61  741296.171  7643069.985  140.000\n",
      "62  741283.940  7643078.714  140.000\n",
      "\n",
      "[63 rows x 3 columns]\n"
     ]
    }
   ],
   "source": [
    "start = time.time()\n",
    "\n",
    "#####PUT NAME OF DXF FILE HERE#####\n",
    "l1 = openDXF(\"road_for_year_123\")\n",
    "\n",
    "l2 = isolateVertex(l1)\n",
    "\n",
    "nodes = []\n",
    "\n",
    "for i, c in enumerate(l2):\n",
    "    if c == \"VERTEX\" and i<(len(l2)-10):\n",
    "        nodes.append([l2[i+6], l2[i+8], l2[i+10]])\n",
    "\n",
    "df = pd.DataFrame(nodes, columns = ['x', 'y', 'z'])\n",
    "if path.exists('nodes_xyz.csv'):\n",
    "    os.remove('nodes_xyz.csv')\n",
    "df.to_csv('nodes_xyz.csv', sep='\\t', encoding='utf-8', index=False)\n",
    "\n",
    "end = time.time()\n",
    "print((end-start) * 10**3, \"ms\")\n",
    "print(df)"
   ]
  }
 ],
 "metadata": {
  "kernelspec": {
   "display_name": "Python 3 (ipykernel)",
   "language": "python",
   "name": "python3"
  },
  "language_info": {
   "codemirror_mode": {
    "name": "ipython",
    "version": 3
   },
   "file_extension": ".py",
   "mimetype": "text/x-python",
   "name": "python",
   "nbconvert_exporter": "python",
   "pygments_lexer": "ipython3",
   "version": "3.10.6"
  }
 },
 "nbformat": 4,
 "nbformat_minor": 5
}
